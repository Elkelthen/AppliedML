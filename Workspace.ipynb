{
  "nbformat": 4,
  "nbformat_minor": 0,
  "metadata": {
    "colab": {
      "name": "Workspace.ipynb",
      "provenance": [],
      "collapsed_sections": []
    },
    "kernelspec": {
      "name": "python3",
      "display_name": "Python 3"
    }
  },
  "cells": [
    {
      "cell_type": "code",
      "metadata": {
        "id": "8-InluNRDsrL"
      },
      "source": [
        "# IMPORTS\r\n",
        "\r\n",
        "import numpy as np\r\n",
        "import pandas as pd\r\n",
        "import matplotlib.pyplot as plt\r\n",
        "from sklearn.datasets import load_boston\r\n",
        "from sklearn import linear_model\r\n",
        "from sklearn.svm import LinearSVR\r\n",
        "from sklearn.metrics import mean_squared_error as MSE\r\n",
        "from sklearn.metrics import mean_squared_error as MSE\r\n",
        "from sklearn import datasets\r\n",
        "from sklearn.pipeline import Pipeline\r\n",
        "from sklearn.preprocessing import StandardScaler, PolynomialFeatures\r\n",
        "from sklearn.model_selection import KFold\r\n",
        "import pylab\r\n",
        "import statsmodels.api as sm"
      ],
      "execution_count": 25,
      "outputs": []
    },
    {
      "cell_type": "code",
      "metadata": {
        "colab": {
          "base_uri": "https://localhost:8080/"
        },
        "id": "HfavnBsWJnL0",
        "outputId": "41832bf9-3c5f-42ae-aea6-717951739eea"
      },
      "source": [
        "# PROBLEM 6\r\n",
        "\r\n",
        "data = datasets.load_boston()\r\n",
        "lm = linear_model.LinearRegression()\r\n",
        "scale = StandardScaler()\r\n",
        "\r\n",
        "# Put data in a dataframe and separate out the target\r\n",
        "df = pd.DataFrame(data=data.data, columns=data.feature_names)\r\n",
        "target = data.target\r\n",
        "\r\n",
        "# Get z-scores of the data, not the target\r\n",
        "df_scaled = scale.fit_transform(df)\r\n",
        "\r\n",
        "lm.fit(df_scaled, target)\r\n",
        "targeted_lm = lm.predict(df_scaled)\r\n",
        "\r\n",
        "#RMSE\r\n",
        "np.sqrt(np.mean((target-targeted_lm)**2))\r\n"
      ],
      "execution_count": 13,
      "outputs": [
        {
          "output_type": "execute_result",
          "data": {
            "text/plain": [
              "4.679191295697282"
            ]
          },
          "metadata": {
            "tags": []
          },
          "execution_count": 13
        }
      ]
    },
    {
      "cell_type": "code",
      "metadata": {
        "colab": {
          "base_uri": "https://localhost:8080/"
        },
        "id": "-rcg944HMltx",
        "outputId": "bdedbfd0-6b07-4e2b-a4c8-46857846141e"
      },
      "source": [
        "# PROBLEM 7\r\n",
        "\r\n",
        "data = datasets.load_boston()\r\n",
        "lm = linear_model.Lasso()\r\n",
        "scale = StandardScaler()\r\n",
        "PE = []\r\n",
        "PE_train = []\r\n",
        "\r\n",
        "# Put data in a dataframe and separate out the target\r\n",
        "df = pd.DataFrame(data=data.data, columns=data.feature_names)\r\n",
        "target = data.target\r\n",
        "\r\n",
        "kf = KFold(n_splits=10, random_state=1234,shuffle=True)\r\n",
        "\r\n",
        "for train_index, test_index in kf.split(df):\r\n",
        "    X_train = df.values[train_index]\r\n",
        "    X_train_scaled = scale.fit_transform(X_train)\r\n",
        "\r\n",
        "    y_train = target[train_index]\r\n",
        "\r\n",
        "    X_test = df.values[test_index]\r\n",
        "    X_test_scaled = scale.transform(X_test)\r\n",
        "\r\n",
        "    y_test = target[test_index]\r\n",
        "\r\n",
        "    lm.fit(X_train_scaled, y_train)\r\n",
        "\r\n",
        "    y_pred = lm.predict(X_test_scaled)\r\n",
        "    y_pred_train = lm.predict(X_train_scaled)\r\n",
        "\r\n",
        "    PE_train.append(MSE(y_train,y_pred_train))\r\n",
        "    PE.append(MSE(y_test, y_pred))\r\n",
        "\r\n",
        "print('The k-fold crossvalidated error rate on the train sets is: ' + str(np.mean(PE_train)))\r\n",
        "print('The k-fold crossvalidated error rate on the test sets is: ' + str(np.mean(PE)))"
      ],
      "execution_count": 3,
      "outputs": [
        {
          "output_type": "stream",
          "text": [
            "The k-fold crossvalidated error rate on the train sets is: 28.337490605967453\n",
            "The k-fold crossvalidated error rate on the test sets is: 29.97054713821555\n"
          ],
          "name": "stdout"
        }
      ]
    },
    {
      "cell_type": "code",
      "metadata": {
        "colab": {
          "base_uri": "https://localhost:8080/"
        },
        "id": "UZFoWt0mOrqX",
        "outputId": "0efa2d70-48bd-47b1-c7ef-3fc66efc250d"
      },
      "source": [
        "# PROBLEM 8\r\n",
        "\r\n",
        "data = datasets.load_boston()\r\n",
        "lm = linear_model.ElasticNet(alpha=0.05,l1_ratio=0.9)\r\n",
        "scale = StandardScaler()\r\n",
        "PE = []\r\n",
        "PE_train = []\r\n",
        "\r\n",
        "# Put data in a dataframe and separate out the target\r\n",
        "df = pd.DataFrame(data=data.data, columns=data.feature_names)\r\n",
        "target = data.target\r\n",
        "\r\n",
        "kf = KFold(n_splits=10, random_state=1234,shuffle=True)\r\n",
        "\r\n",
        "for train_index, test_index in kf.split(df):\r\n",
        "    X_train = df.values[train_index]\r\n",
        "    X_train_scaled = scale.fit_transform(X_train)\r\n",
        "\r\n",
        "    y_train = target[train_index]\r\n",
        "\r\n",
        "    X_test = df.values[test_index]\r\n",
        "    X_test_scaled = scale.transform(X_test)\r\n",
        "\r\n",
        "    y_test = target[test_index]\r\n",
        "\r\n",
        "    lm.fit(X_train_scaled, y_train)\r\n",
        "\r\n",
        "    y_pred = lm.predict(X_test_scaled)\r\n",
        "    y_pred_train = lm.predict(X_train_scaled)\r\n",
        "\r\n",
        "    PE_train.append(MSE(y_train,y_pred_train))\r\n",
        "    PE.append(MSE(y_test, y_pred))\r\n",
        "\r\n",
        "print('The k-fold crossvalidated error rate on the train sets is: ' + str(np.mean(PE_train)))\r\n",
        "print('The k-fold crossvalidated error rate on the test sets is: ' + str(np.mean(PE)))"
      ],
      "execution_count": 2,
      "outputs": [
        {
          "output_type": "stream",
          "text": [
            "The k-fold crossvalidated error rate on the train sets is: 21.91631977803622\n",
            "The k-fold crossvalidated error rate on the test sets is: 24.310376851701204\n"
          ],
          "name": "stdout"
        }
      ]
    },
    {
      "cell_type": "code",
      "metadata": {
        "colab": {
          "base_uri": "https://localhost:8080/"
        },
        "id": "XM_bXEW8PYwW",
        "outputId": "29152764-c4bd-46e9-dce8-9c3f8ce2bb57"
      },
      "source": [
        "# PROBLEM 9\r\n",
        "\r\n",
        "data = datasets.load_boston()\r\n",
        "model = linear_model.LinearRegression()\r\n",
        "scale = StandardScaler()\r\n",
        "\r\n",
        "# Put data in a dataframe and separate out the target\r\n",
        "df = pd.DataFrame(data=data.data, columns=data.feature_names)\r\n",
        "target = data.target\r\n",
        "\r\n",
        "# Get z-scores of the data, not the target\r\n",
        "df_scaled = scale.fit_transform(df)\r\n",
        "\r\n",
        "polynomial_features= PolynomialFeatures(degree=2)\r\n",
        "\r\n",
        "df_poly_fit = polynomial_features.fit_transform(np.array(df_scaled))\r\n",
        "\r\n",
        "model.fit(df_poly_fit, target)\r\n",
        "\r\n",
        "predictions = model.predict(df_poly_fit)\r\n",
        "\r\n",
        "print('RMSE: ', str(np.sqrt(np.mean((target-predictions)**2))))\r\n",
        "\r\n",
        "\r\n"
      ],
      "execution_count": 19,
      "outputs": [
        {
          "output_type": "stream",
          "text": [
            "RMSE:  2.448373110242139\n"
          ],
          "name": "stdout"
        }
      ]
    },
    {
      "cell_type": "code",
      "metadata": {
        "colab": {
          "base_uri": "https://localhost:8080/",
          "height": 279
        },
        "id": "r-xL0kKiNeZv",
        "outputId": "3f80f2aa-f737-4ea5-c31f-b9fcb63ff49c"
      },
      "source": [
        "# PROBLEM 10\r\n",
        "\r\n",
        "data = datasets.load_boston()\r\n",
        "model = linear_model.Ridge()\r\n",
        "scale = StandardScaler()\r\n",
        "\r\n",
        "# Put data in a dataframe and separate out the target\r\n",
        "df = pd.DataFrame(data=data.data, columns=data.feature_names)\r\n",
        "target = data.target\r\n",
        "\r\n",
        "# Get z-scores of the data, not the target\r\n",
        "df_scaled = scale.fit_transform(df)\r\n",
        "\r\n",
        "# Model Operations\r\n",
        "polynomial_features= PolynomialFeatures(degree=2)\r\n",
        "df_poly_fit = polynomial_features.fit_transform(np.array(df_scaled))\r\n",
        "model.fit(df_poly_fit, target)\r\n",
        "predictions = model.predict(df_poly_fit)\r\n",
        "\r\n",
        "# Graphing Residuals\r\n",
        "residuals = target - predictions\r\n",
        "\r\n",
        "sm.qqplot(residuals, loc = 0, scale = 1, line='s')\r\n",
        "pylab.show()"
      ],
      "execution_count": 26,
      "outputs": [
        {
          "output_type": "display_data",
          "data": {
            "image/png": "[encoded data removed]",
            "text/plain": [
              "<Figure size 432x288 with 1 Axes>"
            ]
          },
          "metadata": {
            "tags": [],
            "needs_background": "light"
          }
        }
      ]
    }
  ]
}