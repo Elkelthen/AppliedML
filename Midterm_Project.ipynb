{
  "nbformat": 4,
  "nbformat_minor": 0,
  "metadata": {
    "colab": {
      "name": "Midterm_Project.ipynb",
      "provenance": [],
      "toc_visible": true
    },
    "kernelspec": {
      "name": "python3",
      "display_name": "Python 3"
    },
    "language_info": {
      "name": "python"
    }
  },
  "cells": [
    {
      "cell_type": "code",
      "metadata": {
        "id": "PppCcEs8uCyE"
      },
      "source": [
        "# Imports\n",
        "\n",
        "import numpy as np\n",
        "import pandas as pd\n",
        "import matplotlib.pyplot as plt\n",
        "from sklearn import linear_model\n",
        "from sklearn.metrics import mean_squared_error\n",
        "from sklearn.preprocessing import StandardScaler, PolynomialFeatures\n",
        "from sklearn.model_selection import KFold\n",
        "from sklearn.ensemble import RandomForestRegressor"
      ],
      "execution_count": 2,
      "outputs": []
    },
    {
      "cell_type": "code",
      "metadata": {
        "id": "2MdnPLphuoL8"
      },
      "source": [
        "# Problem 1\n",
        "\n",
        "df = pd.read_csv('weatherHistory.csv')\n",
        "df.size"
      ],
      "execution_count": null,
      "outputs": []
    },
    {
      "cell_type": "code",
      "metadata": {
        "id": "4VomdZ3evkMJ",
        "colab": {
          "base_uri": "https://localhost:8080/",
          "height": 606
        },
        "outputId": "09477aeb-d20d-460c-c7a1-cbc6b913c891"
      },
      "source": [
        "# Problem 2\n",
        "df = pd.read_csv('weatherHistory.csv')\n",
        "df"
      ],
      "execution_count": null,
      "outputs": [
        {
          "output_type": "execute_result",
          "data": {
            "text/html": [
              "<div>\n",
              "<style scoped>\n",
              "    .dataframe tbody tr th:only-of-type {\n",
              "        vertical-align: middle;\n",
              "    }\n",
              "\n",
              "    .dataframe tbody tr th {\n",
              "        vertical-align: top;\n",
              "    }\n",
              "\n",
              "    .dataframe thead th {\n",
              "        text-align: right;\n",
              "    }\n",
              "</style>\n",
              "<table border=\"1\" class=\"dataframe\">\n",
              "  <thead>\n",
              "    <tr style=\"text-align: right;\">\n",
              "      <th></th>\n",
              "      <th>Formatted Date</th>\n",
              "      <th>Summary</th>\n",
              "      <th>Precip Type</th>\n",
              "      <th>Temperature (C)</th>\n",
              "      <th>Apparent Temperature (C)</th>\n",
              "      <th>Humidity</th>\n",
              "      <th>Wind Speed (km/h)</th>\n",
              "      <th>Wind Bearing (degrees)</th>\n",
              "      <th>Visibility (km)</th>\n",
              "      <th>Loud Cover</th>\n",
              "      <th>Pressure (millibars)</th>\n",
              "      <th>Daily Summary</th>\n",
              "    </tr>\n",
              "  </thead>\n",
              "  <tbody>\n",
              "    <tr>\n",
              "      <th>0</th>\n",
              "      <td>2006-04-01 00:00:00.000 +0200</td>\n",
              "      <td>Partly Cloudy</td>\n",
              "      <td>rain</td>\n",
              "      <td>9.472222</td>\n",
              "      <td>7.388889</td>\n",
              "      <td>0.89</td>\n",
              "      <td>14.1197</td>\n",
              "      <td>251.0</td>\n",
              "      <td>15.8263</td>\n",
              "      <td>0.0</td>\n",
              "      <td>1015.13</td>\n",
              "      <td>Partly cloudy throughout the day.</td>\n",
              "    </tr>\n",
              "    <tr>\n",
              "      <th>1</th>\n",
              "      <td>2006-04-01 01:00:00.000 +0200</td>\n",
              "      <td>Partly Cloudy</td>\n",
              "      <td>rain</td>\n",
              "      <td>9.355556</td>\n",
              "      <td>7.227778</td>\n",
              "      <td>0.86</td>\n",
              "      <td>14.2646</td>\n",
              "      <td>259.0</td>\n",
              "      <td>15.8263</td>\n",
              "      <td>0.0</td>\n",
              "      <td>1015.63</td>\n",
              "      <td>Partly cloudy throughout the day.</td>\n",
              "    </tr>\n",
              "    <tr>\n",
              "      <th>2</th>\n",
              "      <td>2006-04-01 02:00:00.000 +0200</td>\n",
              "      <td>Mostly Cloudy</td>\n",
              "      <td>rain</td>\n",
              "      <td>9.377778</td>\n",
              "      <td>9.377778</td>\n",
              "      <td>0.89</td>\n",
              "      <td>3.9284</td>\n",
              "      <td>204.0</td>\n",
              "      <td>14.9569</td>\n",
              "      <td>0.0</td>\n",
              "      <td>1015.94</td>\n",
              "      <td>Partly cloudy throughout the day.</td>\n",
              "    </tr>\n",
              "    <tr>\n",
              "      <th>3</th>\n",
              "      <td>2006-04-01 03:00:00.000 +0200</td>\n",
              "      <td>Partly Cloudy</td>\n",
              "      <td>rain</td>\n",
              "      <td>8.288889</td>\n",
              "      <td>5.944444</td>\n",
              "      <td>0.83</td>\n",
              "      <td>14.1036</td>\n",
              "      <td>269.0</td>\n",
              "      <td>15.8263</td>\n",
              "      <td>0.0</td>\n",
              "      <td>1016.41</td>\n",
              "      <td>Partly cloudy throughout the day.</td>\n",
              "    </tr>\n",
              "    <tr>\n",
              "      <th>4</th>\n",
              "      <td>2006-04-01 04:00:00.000 +0200</td>\n",
              "      <td>Mostly Cloudy</td>\n",
              "      <td>rain</td>\n",
              "      <td>8.755556</td>\n",
              "      <td>6.977778</td>\n",
              "      <td>0.83</td>\n",
              "      <td>11.0446</td>\n",
              "      <td>259.0</td>\n",
              "      <td>15.8263</td>\n",
              "      <td>0.0</td>\n",
              "      <td>1016.51</td>\n",
              "      <td>Partly cloudy throughout the day.</td>\n",
              "    </tr>\n",
              "    <tr>\n",
              "      <th>...</th>\n",
              "      <td>...</td>\n",
              "      <td>...</td>\n",
              "      <td>...</td>\n",
              "      <td>...</td>\n",
              "      <td>...</td>\n",
              "      <td>...</td>\n",
              "      <td>...</td>\n",
              "      <td>...</td>\n",
              "      <td>...</td>\n",
              "      <td>...</td>\n",
              "      <td>...</td>\n",
              "      <td>...</td>\n",
              "    </tr>\n",
              "    <tr>\n",
              "      <th>96448</th>\n",
              "      <td>2016-09-09 19:00:00.000 +0200</td>\n",
              "      <td>Partly Cloudy</td>\n",
              "      <td>rain</td>\n",
              "      <td>26.016667</td>\n",
              "      <td>26.016667</td>\n",
              "      <td>0.43</td>\n",
              "      <td>10.9963</td>\n",
              "      <td>31.0</td>\n",
              "      <td>16.1000</td>\n",
              "      <td>0.0</td>\n",
              "      <td>1014.36</td>\n",
              "      <td>Partly cloudy starting in the morning.</td>\n",
              "    </tr>\n",
              "    <tr>\n",
              "      <th>96449</th>\n",
              "      <td>2016-09-09 20:00:00.000 +0200</td>\n",
              "      <td>Partly Cloudy</td>\n",
              "      <td>rain</td>\n",
              "      <td>24.583333</td>\n",
              "      <td>24.583333</td>\n",
              "      <td>0.48</td>\n",
              "      <td>10.0947</td>\n",
              "      <td>20.0</td>\n",
              "      <td>15.5526</td>\n",
              "      <td>0.0</td>\n",
              "      <td>1015.16</td>\n",
              "      <td>Partly cloudy starting in the morning.</td>\n",
              "    </tr>\n",
              "    <tr>\n",
              "      <th>96450</th>\n",
              "      <td>2016-09-09 21:00:00.000 +0200</td>\n",
              "      <td>Partly Cloudy</td>\n",
              "      <td>rain</td>\n",
              "      <td>22.038889</td>\n",
              "      <td>22.038889</td>\n",
              "      <td>0.56</td>\n",
              "      <td>8.9838</td>\n",
              "      <td>30.0</td>\n",
              "      <td>16.1000</td>\n",
              "      <td>0.0</td>\n",
              "      <td>1015.66</td>\n",
              "      <td>Partly cloudy starting in the morning.</td>\n",
              "    </tr>\n",
              "    <tr>\n",
              "      <th>96451</th>\n",
              "      <td>2016-09-09 22:00:00.000 +0200</td>\n",
              "      <td>Partly Cloudy</td>\n",
              "      <td>rain</td>\n",
              "      <td>21.522222</td>\n",
              "      <td>21.522222</td>\n",
              "      <td>0.60</td>\n",
              "      <td>10.5294</td>\n",
              "      <td>20.0</td>\n",
              "      <td>16.1000</td>\n",
              "      <td>0.0</td>\n",
              "      <td>1015.95</td>\n",
              "      <td>Partly cloudy starting in the morning.</td>\n",
              "    </tr>\n",
              "    <tr>\n",
              "      <th>96452</th>\n",
              "      <td>2016-09-09 23:00:00.000 +0200</td>\n",
              "      <td>Partly Cloudy</td>\n",
              "      <td>rain</td>\n",
              "      <td>20.438889</td>\n",
              "      <td>20.438889</td>\n",
              "      <td>0.61</td>\n",
              "      <td>5.8765</td>\n",
              "      <td>39.0</td>\n",
              "      <td>15.5204</td>\n",
              "      <td>0.0</td>\n",
              "      <td>1016.16</td>\n",
              "      <td>Partly cloudy starting in the morning.</td>\n",
              "    </tr>\n",
              "  </tbody>\n",
              "</table>\n",
              "<p>96453 rows × 12 columns</p>\n",
              "</div>"
            ],
            "text/plain": [
              "                      Formatted Date  ...                           Daily Summary\n",
              "0      2006-04-01 00:00:00.000 +0200  ...       Partly cloudy throughout the day.\n",
              "1      2006-04-01 01:00:00.000 +0200  ...       Partly cloudy throughout the day.\n",
              "2      2006-04-01 02:00:00.000 +0200  ...       Partly cloudy throughout the day.\n",
              "3      2006-04-01 03:00:00.000 +0200  ...       Partly cloudy throughout the day.\n",
              "4      2006-04-01 04:00:00.000 +0200  ...       Partly cloudy throughout the day.\n",
              "...                              ...  ...                                     ...\n",
              "96448  2016-09-09 19:00:00.000 +0200  ...  Partly cloudy starting in the morning.\n",
              "96449  2016-09-09 20:00:00.000 +0200  ...  Partly cloudy starting in the morning.\n",
              "96450  2016-09-09 21:00:00.000 +0200  ...  Partly cloudy starting in the morning.\n",
              "96451  2016-09-09 22:00:00.000 +0200  ...  Partly cloudy starting in the morning.\n",
              "96452  2016-09-09 23:00:00.000 +0200  ...  Partly cloudy starting in the morning.\n",
              "\n",
              "[96453 rows x 12 columns]"
            ]
          },
          "metadata": {
            "tags": []
          },
          "execution_count": 3
        }
      ]
    },
    {
      "cell_type": "code",
      "metadata": {
        "colab": {
          "base_uri": "https://localhost:8080/"
        },
        "id": "Ql5eNtY_weOQ",
        "outputId": "b9625f67-170e-4030-9eb9-2e4cfb24d8a0"
      },
      "source": [
        "# Problem 3\n",
        "\n",
        "df = pd.read_csv('weatherHistory.csv')\n",
        "\n",
        "temp = np.array(df[['Temperature (C)']])\n",
        "temp.reshape(-1,1)\n",
        "\n",
        "humidity = np.array(df[['Humidity']])\n",
        "\n",
        "lm = linear_model.LinearRegression()\n",
        "model = lm.fit(temp, humidity)\n",
        "\n",
        "humidity_hat = lm.predict(temp)\n",
        "\n",
        "rms = mean_squared_error(humidity, humidity_hat, squared=False)\n",
        "\n",
        "rms"
      ],
      "execution_count": null,
      "outputs": [
        {
          "output_type": "execute_result",
          "data": {
            "text/plain": [
              "0.1514437964005473"
            ]
          },
          "metadata": {
            "tags": []
          },
          "execution_count": 23
        }
      ]
    },
    {
      "cell_type": "code",
      "metadata": {
        "colab": {
          "base_uri": "https://localhost:8080/"
        },
        "id": "mqTEOD960VGD",
        "outputId": "c80ef421-9ec3-4538-e061-7e2586b3e0e0"
      },
      "source": [
        "# Problem 4\n",
        "\n",
        "df = pd.read_csv('weatherHistory.csv')\n",
        "scale = StandardScaler(with_mean=False)\n",
        "model = linear_model.Ridge(alpha=0.1)\n",
        "PE = []\n",
        "PE_train = []\n",
        "\n",
        "feature_temp = pd.DataFrame(df[['Temperature (C)']])\n",
        "target_humidity = pd.DataFrame(df[['Humidity']])\n",
        "\n",
        "feature_temp_scaled = scale.fit_transform(feature_temp)\n",
        "target_humidity_scaled = scale.fit_transform(target_humidity)\n",
        "\n",
        "kf = KFold(n_splits=20, random_state=1234,shuffle=True)\n",
        "\n",
        "for train_index, test_index in kf.split(feature_temp_scaled):\n",
        "    X_train = feature_temp_scaled[train_index]\n",
        "\n",
        "    y_train = target_humidity_scaled[train_index]\n",
        "\n",
        "    X_test = feature_temp_scaled[test_index]\n",
        "\n",
        "    y_test = target_humidity_scaled[test_index]\n",
        "\n",
        "    model.fit(X_train, y_train)\n",
        "\n",
        "    y_pred = model.predict(X_test)\n",
        "    y_pred_train = model.predict(X_train)\n",
        "\n",
        "    PE_train.append(mean_squared_error(y_train,y_pred_train, squared=False))\n",
        "    PE.append(mean_squared_error(y_test, y_pred, squared=False))\n",
        "\n",
        "print('The k-fold crossvalidated error rate on the train sets is: ' + str(np.mean(PE_train)))\n",
        "print('The k-fold crossvalidated error rate on the test sets is: ' + str(np.mean(PE)))"
      ],
      "execution_count": 8,
      "outputs": [
        {
          "output_type": "stream",
          "text": [
            "The k-fold crossvalidated error rate on the train sets is: 0.7747601315245827\n",
            "The k-fold crossvalidated error rate on the test sets is: 0.7747472462507702\n"
          ],
          "name": "stdout"
        }
      ]
    },
    {
      "cell_type": "code",
      "metadata": {
        "id": "ceqWpoii4IBB",
        "colab": {
          "base_uri": "https://localhost:8080/"
        },
        "outputId": "6379eaac-6663-4436-92db-66bc615bbfd4"
      },
      "source": [
        "# Problem 5\n",
        "\n",
        "df = pd.read_csv('weatherHistory.csv')\n",
        "\n",
        "feature_temp = pd.DataFrame(df[['Apparent Temperature (C)']])\n",
        "target_humidity = pd.DataFrame(df[['Humidity']])\n",
        "target_humidity_scaled = scale.fit_transform(target_humidity)\n",
        "scale = StandardScaler()\n",
        "kf = KFold(n_splits=10, random_state=1693,shuffle=True)\n",
        "RF_reg = RandomForestRegressor(n_estimators=100,max_depth=50)\n",
        "PE = []\n",
        "PE_train = []\n",
        "\n",
        "for train_index, test_index in kf.split(feature_temp):\n",
        "    X_train = feature_temp.values[train_index]\n",
        "    X_train_scaled = scale.fit_transform(X_train)\n",
        "\n",
        "    y_train = target_humidity_scaled[train_index]\n",
        "\n",
        "    X_test = feature_temp.values[test_index]\n",
        "    X_test_scaled = scale.transform(X_test)\n",
        "\n",
        "    y_test = target_humidity_scaled[test_index]\n",
        "\n",
        "    RF_reg.fit(X_train,y_train.ravel())\n",
        "\n",
        "    y_pred = RF_reg.predict(X_test_scaled)\n",
        "    y_pred_train = RF_reg.predict(X_train_scaled)\n",
        "\n",
        "    PE_train.append(mean_squared_error(y_train,y_pred_train, squared=False))\n",
        "    PE.append(mean_squared_error(y_test, y_pred, squared=False))\n",
        "\n",
        "print('The k-fold crossvalidated error rate on the train sets is: ' + str(np.mean(PE_train)))\n",
        "print('The k-fold crossvalidated error rate on the test sets is: ' + str(np.mean(PE)))\n"
      ],
      "execution_count": null,
      "outputs": [
        {
          "output_type": "stream",
          "text": [
            "The k-fold crossvalidated error rate on the train sets is: 1.1755162289421388\n",
            "The k-fold crossvalidated error rate on the test sets is: 1.1749173746967394\n"
          ],
          "name": "stdout"
        }
      ]
    },
    {
      "cell_type": "code",
      "metadata": {
        "colab": {
          "base_uri": "https://localhost:8080/"
        },
        "id": "pFdRzPZRro90",
        "outputId": "87997920-6f1b-4850-cd9c-cd25beca733b"
      },
      "source": [
        "# Problem 6\n",
        "\n",
        "df = pd.read_csv('weatherHistory.csv')\n",
        "PE = []\n",
        "PE_train = []\n",
        "model = linear_model.LinearRegression()\n",
        "scale = StandardScaler()\n",
        "\n",
        "feature_temp = pd.DataFrame(df[['Apparent Temperature (C)']])\n",
        "target_humidity = pd.DataFrame(df[['Humidity']])\n",
        "target_humidity_scaled = scale.fit_transform(target_humidity)\n",
        "\n",
        "kf = KFold(n_splits=10, random_state=1693,shuffle=True)\n",
        "\n",
        "polynomial_features= PolynomialFeatures(degree=6)\n",
        "\n",
        "for train_index, test_index in kf.split(feature_temp):\n",
        "    X_train = feature_temp.values[train_index]\n",
        "    X_train_scaled = polynomial_features.fit_transform(np.array(X_train))\n",
        "\n",
        "    y_train = target_humidity_scaled[train_index]\n",
        "\n",
        "    X_test = feature_temp.values[test_index]\n",
        "    X_test_scaled = polynomial_features.fit_transform(np.array(X_test))\n",
        "\n",
        "    y_test = target_humidity_scaled[test_index]\n",
        "\n",
        "    model.fit(X_train_scaled,y_train)\n",
        "\n",
        "    y_pred = model.predict(X_test_scaled)\n",
        "    y_pred_train = model.predict(X_train_scaled)\n",
        "\n",
        "    PE_train.append(mean_squared_error(y_train,y_pred_train, squared=False))\n",
        "    PE.append(mean_squared_error(y_test, y_pred, squared=False))\n",
        "\n",
        "print('The k-fold crossvalidated error rate on the train sets is: ' + str(np.mean(PE_train)))\n",
        "print('The k-fold crossvalidated error rate on the test sets is: ' + str(np.mean(PE)))"
      ],
      "execution_count": null,
      "outputs": [
        {
          "output_type": "stream",
          "text": [
            "The k-fold crossvalidated error rate on the train sets is: 0.7338743662116621\n",
            "The k-fold crossvalidated error rate on the test sets is: 0.7339474361416277\n"
          ],
          "name": "stdout"
        }
      ]
    },
    {
      "cell_type": "code",
      "metadata": {
        "colab": {
          "base_uri": "https://localhost:8080/"
        },
        "id": "wzv90t_KuULS",
        "outputId": "4d3f4bb2-b717-4e60-95fa-7e65446e61d5"
      },
      "source": [
        "# Problem 7\n",
        "\n",
        "df = pd.read_csv('weatherHistory.csv')\n",
        "scale = StandardScaler()\n",
        "model = linear_model.Ridge(alpha=0.2)\n",
        "PE = []\n",
        "PE_train = []\n",
        "\n",
        "feature_temp = pd.DataFrame(df[['Temperature (C)']])\n",
        "target_humidity = pd.DataFrame(df[['Humidity']])\n",
        "\n",
        "target_humidity_scaled = scale.fit_transform(target_humidity)\n",
        "\n",
        "kf = KFold(n_splits=10, random_state=1234,shuffle=True)\n",
        "\n",
        "for train_index, test_index in kf.split(feature_temp):\n",
        "    X_train = feature_temp.values[train_index]\n",
        "    X_train_scaled = scale.fit_transform(X_train)\n",
        "\n",
        "    y_train = target_humidity_scaled[train_index]\n",
        "\n",
        "    X_test = feature_temp.values[test_index]\n",
        "    X_test_scaled = scale.transform(X_test)\n",
        "\n",
        "    y_test = target_humidity_scaled[test_index]\n",
        "\n",
        "    model.fit(X_train_scaled, y_train)\n",
        "\n",
        "    y_pred = model.predict(X_test_scaled)\n",
        "    y_pred_train = model.predict(X_train_scaled)\n",
        "\n",
        "    PE_train.append(mean_squared_error(y_train,y_pred_train, squared=False))\n",
        "    PE.append(mean_squared_error(y_test, y_pred, squared=False))\n",
        "\n",
        "print('The k-fold crossvalidated error rate on the train sets is: ' + str(np.mean(PE_train)))\n",
        "print('The k-fold crossvalidated error rate on the test sets is: ' + str(np.mean(PE)))"
      ],
      "execution_count": null,
      "outputs": [
        {
          "output_type": "stream",
          "text": [
            "The k-fold crossvalidated error rate on the train sets is: 0.7747595319711287\n",
            "The k-fold crossvalidated error rate on the test sets is: 0.7747648213755566\n"
          ],
          "name": "stdout"
        }
      ]
    },
    {
      "cell_type": "code",
      "metadata": {
        "colab": {
          "base_uri": "https://localhost:8080/"
        },
        "id": "1PRAdDB5vsU4",
        "outputId": "157da9fa-2c50-4aa6-ce3f-6b134b384177"
      },
      "source": [
        "# Problem 8\n",
        "\n",
        "df = pd.read_csv('weatherHistory.csv')\n",
        "PE = []\n",
        "PE_train = []\n",
        "model = linear_model.LinearRegression()\n",
        "scale = StandardScaler()\n",
        " \n",
        "feature_multiple = df[['Humidity','Wind Speed (km/h)','Pressure (millibars)','Wind Bearing (degrees)']]\n",
        "\n",
        "target_temp = pd.DataFrame(df[['Temperature (C)']])\n",
        "\n",
        "target_temp_scaled = scale.fit_transform(target_temp)\n",
        "\n",
        "kf = KFold(n_splits=10, random_state=1234,shuffle=True)\n",
        "\n",
        "polynomial_features= PolynomialFeatures(degree=6)\n",
        "\n",
        "for train_index, test_index in kf.split(feature_multiple):\n",
        "    X_train = feature_multiple.values[train_index]\n",
        "    X_train_scaled = polynomial_features.fit_transform(np.array(X_train))\n",
        "\n",
        "    y_train = target_temp_scaled[train_index]\n",
        "\n",
        "    X_test = feature_multiple.values[test_index]\n",
        "    X_test_scaled = polynomial_features.fit_transform(np.array(X_test))\n",
        "\n",
        "    y_test = target_temp_scaled[test_index]\n",
        "\n",
        "    model.fit(X_train_scaled,y_train)\n",
        "\n",
        "    y_pred = model.predict(X_test_scaled)\n",
        "    y_pred_train = model.predict(X_train_scaled)\n",
        "\n",
        "    PE_train.append(mean_squared_error(y_train,y_pred_train, squared=False))\n",
        "    PE.append(mean_squared_error(y_test, y_pred, squared=False))\n",
        "\n",
        "print('The k-fold crossvalidated error rate on the train sets is: ' + str(np.mean(PE_train)))\n",
        "print('The k-fold crossvalidated error rate on the test sets is: ' + str(np.mean(PE)))"
      ],
      "execution_count": null,
      "outputs": [
        {
          "output_type": "stream",
          "text": [
            "The k-fold crossvalidated error rate on the train sets is: 0.6387605015578328\n",
            "The k-fold crossvalidated error rate on the test sets is: 0.6406557561526592\n"
          ],
          "name": "stdout"
        }
      ]
    },
    {
      "cell_type": "code",
      "metadata": {
        "colab": {
          "base_uri": "https://localhost:8080/"
        },
        "id": "NA5UK5qjzow2",
        "outputId": "c05da0ba-511e-49bb-9043-0aae2da31ed9"
      },
      "source": [
        "# Problem 9\n",
        "\n",
        "df = pd.read_csv('weatherHistory.csv')\n",
        "PE = []\n",
        "PE_train = []\n",
        "RF_reg = RandomForestRegressor(n_estimators=100,max_depth=50)\n",
        "scale = StandardScaler()\n",
        " \n",
        "feature_multiple = df[['Humidity','Wind Speed (km/h)','Pressure (millibars)','Wind Bearing (degrees)']]\n",
        "\n",
        "target_temp = pd.DataFrame(df[['Temperature (C)']])\n",
        "\n",
        "target_temp_scaled = scale.fit_transform(target_temp)\n",
        "\n",
        "kf = KFold(n_splits=10, random_state=1234,shuffle=True)\n",
        "\n",
        "for train_index, test_index in kf.split(feature_multiple):\n",
        "    X_train = feature_multiple.values[train_index]\n",
        "    X_train_scaled = scale.fit_transform(np.array(X_train))\n",
        "\n",
        "    y_train = target_temp_scaled[train_index]\n",
        "\n",
        "    X_test = feature_multiple.values[test_index]\n",
        "    X_test_scaled = scale.fit_transform(np.array(X_test))\n",
        "\n",
        "    y_test = target_temp_scaled[test_index]\n",
        "\n",
        "    RF_reg.fit(X_train_scaled,y_train.ravel())\n",
        "\n",
        "    y_pred = RF_reg.predict(X_test_scaled)\n",
        "    y_pred_train = RF_reg.predict(X_train_scaled)\n",
        "\n",
        "    PE_train.append(mean_squared_error(y_train,y_pred_train, squared=False))\n",
        "    PE.append(mean_squared_error(y_test, y_pred, squared=False))\n",
        "\n",
        "print('The k-fold crossvalidated error rate on the train sets is: ' + str(np.mean(PE_train)))\n",
        "print('The k-fold crossvalidated error rate on the test sets is: ' + str(np.mean(PE)))"
      ],
      "execution_count": null,
      "outputs": [
        {
          "output_type": "stream",
          "text": [
            "The k-fold crossvalidated error rate on the train sets is: 0.2286161825375658\n",
            "The k-fold crossvalidated error rate on the test sets is: 0.6180342076071658\n"
          ],
          "name": "stdout"
        }
      ]
    }
  ]
}